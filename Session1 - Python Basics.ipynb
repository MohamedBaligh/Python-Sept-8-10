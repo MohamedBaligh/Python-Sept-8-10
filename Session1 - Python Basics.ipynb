{
 "cells": [
  {
   "cell_type": "code",
   "execution_count": 2,
   "metadata": {},
   "outputs": [
    {
     "name": "stdout",
     "output_type": "stream",
     "text": [
      "hi\n"
     ]
    }
   ],
   "source": [
    "print('hi')"
   ]
  },
  {
   "cell_type": "markdown",
   "metadata": {},
   "source": [
    "### Different modes of exceution :\n",
    "> - Interactive cmd python >>> quit()\n",
    "> - Scripting .py dir python filename.py\n",
    "> - IDE ctrl + enter "
   ]
  },
  {
   "cell_type": "markdown",
   "metadata": {},
   "source": [
    "### Datatypes :\n",
    "> - int 10 25 366666666 immutable not itearble \n",
    "> - float 10.255 36..555 immutable not iterable \n",
    "> - str '' \"\" \"\"\" \"\"\" immutable iterable \n",
    "> - list [10,20,30,25.2555,\"Python\",[100,200,300]] mutable  itearble \n",
    "> - tuple (10,20,30,40) immutable itearble\n",
    "> - dict {'name':'abc','email':'abc@xyz.com'} mutable  itearble \n",
    "> - set {10,20,35,45} mutable itearble \n",
    "> - bool True False immutable "
   ]
  },
  {
   "cell_type": "code",
   "execution_count": 3,
   "metadata": {},
   "outputs": [
    {
     "name": "stdout",
     "output_type": "stream",
     "text": [
      "300\n"
     ]
    }
   ],
   "source": [
    "num1 = 100\n",
    "num2 = 200\n",
    "num3 = num1 + num2\n",
    "print(num3)"
   ]
  },
  {
   "cell_type": "code",
   "execution_count": null,
   "metadata": {},
   "outputs": [],
   "source": [
    "1005      1009\n",
    "Num1      Num2\n",
    "100       200"
   ]
  },
  {
   "cell_type": "code",
   "execution_count": null,
   "metadata": {},
   "outputs": [],
   "source": [
    "100 num1,num2"
   ]
  },
  {
   "cell_type": "code",
   "execution_count": 13,
   "metadata": {},
   "outputs": [
    {
     "name": "stdout",
     "output_type": "stream",
     "text": [
      "<class 'int'> <class 'int'>\n",
      "1389653664 1389653664\n",
      "<class 'str'>\n"
     ]
    }
   ],
   "source": [
    "num3 = 20\n",
    "num4 = 20\n",
    "print(type(num3),type(num4))\n",
    "print(id(num3),id(num4))\n",
    "num3 = \"zekeLabs\"\n",
    "print(type(num3))"
   ]
  },
  {
   "cell_type": "code",
   "execution_count": null,
   "metadata": {},
   "outputs": [],
   "source": [
    "Object Intering \n",
    "0-256\n",
    "\n",
    "\n",
    "20 \n",
    "zekeLabs num3,num4"
   ]
  },
  {
   "cell_type": "code",
   "execution_count": 18,
   "metadata": {},
   "outputs": [
    {
     "name": "stdout",
     "output_type": "stream",
     "text": [
      "<class 'str'>\n",
      "1359024327240\n",
      "1359024327240\n",
      "[100, 200, 300, 'Python', 400]\n"
     ]
    }
   ],
   "source": [
    "s = \"Python\"\n",
    "print(type(s))\n",
    "\n",
    "l = [100,200,300,'Python']\n",
    "print(id(l))\n",
    "l.append(400)\n",
    "print(id(l))\n",
    "print(l)"
   ]
  },
  {
   "cell_type": "markdown",
   "metadata": {},
   "source": [
    "num5 = 200\n",
    "print(id(num5))\n",
    "num5 = 202\n",
    "print(id(num5))"
   ]
  },
  {
   "cell_type": "markdown",
   "metadata": {},
   "source": [
    "Mutable => methods to add update and delete the elements \n",
    "Immutable => no methods to add update and delete \n"
   ]
  },
  {
   "cell_type": "markdown",
   "metadata": {},
   "source": [
    "Operators :\n",
    "> - Arithmetic operators : + - * / //-floor, ** power %\n",
    "> - comparison operators ==,!=,<,>,<=,>= => True False \n",
    "> - Identity opeartors is is not \n",
    "> - Membership Operators in not in\n",
    "> - Logical operators and or not \n",
    "> - Assignment Operators =,+=,-=,/=,//=,**="
   ]
  },
  {
   "cell_type": "code",
   "execution_count": 25,
   "metadata": {},
   "outputs": [
    {
     "name": "stdout",
     "output_type": "stream",
     "text": [
      "3.3333333333333335\n",
      "3\n",
      "1\n",
      "10.0\n"
     ]
    }
   ],
   "source": [
    "print(10 / 3)\n",
    "print(10 // 3)\n",
    "print(10 % 3)\n",
    "print(100 ** 0.5)"
   ]
  },
  {
   "cell_type": "code",
   "execution_count": 30,
   "metadata": {},
   "outputs": [
    {
     "name": "stdout",
     "output_type": "stream",
     "text": [
      "True\n",
      "False\n",
      "True\n"
     ]
    }
   ],
   "source": [
    "num7 = 100\n",
    "num8 = 100\n",
    "print(num7 == num8)\n",
    "\n",
    "s1 = \"Python\"\n",
    "s2 ='python'\n",
    "\n",
    "print(s1 == s2)\n",
    "\n",
    "l1 = [10,20,30]\n",
    "l2 = [10,20]\n",
    "print(l1 != l2)"
   ]
  },
  {
   "cell_type": "code",
   "execution_count": 35,
   "metadata": {},
   "outputs": [
    {
     "name": "stdout",
     "output_type": "stream",
     "text": [
      "True\n",
      "True\n",
      "1359024714056 1359024716680\n",
      "True\n",
      "True\n"
     ]
    }
   ],
   "source": [
    "num10 = 100\n",
    "num11 = 100\n",
    "print(num10 == num11)\n",
    "print(num10 is num11)\n",
    "\n",
    "l1 = [10,20,30]\n",
    "l2 = [10,20,30]\n",
    "print(id(l1),id(l2))\n",
    "print(l1 == l2)\n",
    "print(l1 is not l2)"
   ]
  },
  {
   "cell_type": "code",
   "execution_count": 38,
   "metadata": {},
   "outputs": [
    {
     "name": "stdout",
     "output_type": "stream",
     "text": [
      "False\n"
     ]
    },
    {
     "ename": "TypeError",
     "evalue": "argument of type 'int' is not iterable",
     "output_type": "error",
     "traceback": [
      "\u001b[1;31m---------------------------------------------------------------------------\u001b[0m",
      "\u001b[1;31mTypeError\u001b[0m                                 Traceback (most recent call last)",
      "\u001b[1;32m<ipython-input-38-730f2ab11edb>\u001b[0m in \u001b[0;36m<module>\u001b[1;34m()\u001b[0m\n\u001b[0;32m      3\u001b[0m \u001b[1;33m\u001b[0m\u001b[0m\n\u001b[0;32m      4\u001b[0m \u001b[0mnum11\u001b[0m \u001b[1;33m=\u001b[0m \u001b[1;36m600\u001b[0m\u001b[1;33m\u001b[0m\u001b[0m\n\u001b[1;32m----> 5\u001b[1;33m \u001b[0mprint\u001b[0m\u001b[1;33m(\u001b[0m\u001b[1;36m6\u001b[0m \u001b[1;32min\u001b[0m \u001b[1;36m600\u001b[0m\u001b[1;33m)\u001b[0m\u001b[1;33m\u001b[0m\u001b[0m\n\u001b[0m",
      "\u001b[1;31mTypeError\u001b[0m: argument of type 'int' is not iterable"
     ]
    }
   ],
   "source": [
    "l = [10,20,30,40,50]\n",
    "print(300 in l)\n",
    "\n",
    "num11 = 600\n",
    "print(6 in 600)"
   ]
  },
  {
   "cell_type": "code",
   "execution_count": 44,
   "metadata": {},
   "outputs": [
    {
     "name": "stdout",
     "output_type": "stream",
     "text": [
      "True\n",
      "True\n"
     ]
    }
   ],
   "source": [
    "s3 = \"Python,Java,C++\"\n",
    "print(\"P\" in s3)\n",
    "\n",
    "d = {1:1,2:4,3:9,4:16}\n",
    "print(9 not in d)\n"
   ]
  },
  {
   "cell_type": "code",
   "execution_count": 46,
   "metadata": {},
   "outputs": [
    {
     "name": "stdout",
     "output_type": "stream",
     "text": [
      "False\n"
     ]
    }
   ],
   "source": [
    "print(not(8 == 8 and 6 !=7))"
   ]
  },
  {
   "cell_type": "code",
   "execution_count": 50,
   "metadata": {},
   "outputs": [
    {
     "name": "stdout",
     "output_type": "stream",
     "text": [
      "300\n",
      "305\n",
      "1525\n"
     ]
    }
   ],
   "source": [
    "num12 = 300\n",
    "print(num12)\n",
    "num12 = num12 + 5\n",
    "print(num12)\n",
    "num12 *= 5\n",
    "print(num12)"
   ]
  },
  {
   "cell_type": "markdown",
   "metadata": {},
   "source": [
    "Conditional Statements "
   ]
  },
  {
   "cell_type": "markdown",
   "metadata": {},
   "source": [
    "Syntax : \n",
    "\n",
    "if [condition]:\n",
    "    statements\n",
    "elif [condition]:\n",
    "    statements \n",
    "else:\n",
    "    statements \n"
   ]
  },
  {
   "cell_type": "code",
   "execution_count": 60,
   "metadata": {},
   "outputs": [
    {
     "name": "stdout",
     "output_type": "stream",
     "text": [
      "a is greater\n",
      "just another sattemnt\n"
     ]
    }
   ],
   "source": [
    "a = 400\n",
    "b = 300\n",
    "\n",
    "if a > b:\n",
    "    print(\"a is greater\")\n",
    "    print(\"just another statement\")\n",
    "elif b > a:\n",
    "    print('b is greater ')\n",
    "else:\n",
    "    print(\"Both are equal\")"
   ]
  },
  {
   "cell_type": "code",
   "execution_count": 65,
   "metadata": {},
   "outputs": [
    {
     "name": "stdout",
     "output_type": "stream",
     "text": [
      "Even\n"
     ]
    }
   ],
   "source": [
    "num6 = 24 \n",
    "if num6 % 2 == 0 :\n",
    "    print(\"Even\")\n",
    "else:\n",
    "    print(\"Odd\")"
   ]
  },
  {
   "cell_type": "code",
   "execution_count": 72,
   "metadata": {},
   "outputs": [
    {
     "name": "stdout",
     "output_type": "stream",
     "text": [
      "Python\n"
     ]
    }
   ],
   "source": [
    "if [10] :\n",
    "    print(\"Python\")\n",
    "else:\n",
    "    print(\"Java\")"
   ]
  }
 ],
 "metadata": {
  "kernelspec": {
   "display_name": "Python 3",
   "language": "python",
   "name": "python3"
  },
  "language_info": {
   "codemirror_mode": {
    "name": "ipython",
    "version": 3
   },
   "file_extension": ".py",
   "mimetype": "text/x-python",
   "name": "python",
   "nbconvert_exporter": "python",
   "pygments_lexer": "ipython3",
   "version": "3.6.5"
  }
 },
 "nbformat": 4,
 "nbformat_minor": 2
}
